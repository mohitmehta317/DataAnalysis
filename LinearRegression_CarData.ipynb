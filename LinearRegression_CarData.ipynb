{
 "cells": [
  {
   "cell_type": "markdown",
   "id": "7c4f777f",
   "metadata": {},
   "source": [
    "# Linear Regression model on Car Data from CarDekho.com(India)"
   ]
  },
  {
   "cell_type": "markdown",
   "id": "48af0b76",
   "metadata": {},
   "source": [
    "### Is Linear Regression Supervised / unsupervised Machine learning model?\n",
    " Linear Regression Model is a supervised learning model where we predict a numerical value, with the help of a dataset. This model predicts a value of dependent(target) variable with the help of independent variable. \n",
    " For Example - The price of car can be predicted by its fuel type, mileage, year of manufacture, accident claims etc.\n",
    "\n",
    "### What is the aim of this Machine learning model ie what you are intending to do using this model?\n",
    "With the help of this regression model, I am intending to train a model with the help of a dataset with a data from a website(CarDekho.com) which sells used vehicles so that in future I can predict the value of dependent variable such as Price with the help of different independent variables such as fuel type, mileage, year of manufacture, accident claims etc.\n",
    "\n",
    "### Briefly discuss main concept behind this algorithm.\n",
    "The main concept behind this algorithm is to find the relationship between explanatory variables(predictors) and target There can be a number of explanatory variables affecting the target variable. The value of target variable can be calculated using explanatory variables and this model represent the relationship between the two using a straight line. \n"
   ]
  },
  {
   "cell_type": "markdown",
   "id": "f80927e5",
   "metadata": {},
   "source": [
    "## Data description\n",
    "- Car_Name - Model of the car\n",
    "- Year - Manufacturing Year\n",
    "- Selling_Price - Selling Price of the car\n",
    "- Present_Price - Present Price of the car (Value in insurance)\n",
    "- Kms_Driven - Mileage of the car\n",
    "- Fuel_Type - CNG, Petrol, Deisel\n",
    "- Seller_Type - Dealer or Individual sale\n",
    "- Transmission - Transmission Automatic or Manual\n",
    "- Owner - No of Owner"
   ]
  },
  {
   "cell_type": "code",
   "execution_count": 44,
   "id": "35fd7ec9",
   "metadata": {},
   "outputs": [],
   "source": [
    "# Import required packages\n",
    "import pandas as pd\n",
    "import seaborn as sns\n",
    "import matplotlib.pyplot as plt\n",
    "from sklearn.model_selection import train_test_split"
   ]
  },
  {
   "cell_type": "code",
   "execution_count": 45,
   "id": "d4b1a063",
   "metadata": {},
   "outputs": [
    {
     "data": {
      "text/html": [
       "<div>\n",
       "<style scoped>\n",
       "    .dataframe tbody tr th:only-of-type {\n",
       "        vertical-align: middle;\n",
       "    }\n",
       "\n",
       "    .dataframe tbody tr th {\n",
       "        vertical-align: top;\n",
       "    }\n",
       "\n",
       "    .dataframe thead th {\n",
       "        text-align: right;\n",
       "    }\n",
       "</style>\n",
       "<table border=\"1\" class=\"dataframe\">\n",
       "  <thead>\n",
       "    <tr style=\"text-align: right;\">\n",
       "      <th></th>\n",
       "      <th>Car_Name</th>\n",
       "      <th>Year</th>\n",
       "      <th>Selling_Price</th>\n",
       "      <th>Present_Price</th>\n",
       "      <th>Kms_Driven</th>\n",
       "      <th>Fuel_Type</th>\n",
       "      <th>Seller_Type</th>\n",
       "      <th>Transmission</th>\n",
       "      <th>Owner</th>\n",
       "    </tr>\n",
       "  </thead>\n",
       "  <tbody>\n",
       "    <tr>\n",
       "      <th>0</th>\n",
       "      <td>ritz</td>\n",
       "      <td>2014</td>\n",
       "      <td>3.35</td>\n",
       "      <td>5.59</td>\n",
       "      <td>27000</td>\n",
       "      <td>Petrol</td>\n",
       "      <td>Dealer</td>\n",
       "      <td>Manual</td>\n",
       "      <td>0</td>\n",
       "    </tr>\n",
       "    <tr>\n",
       "      <th>1</th>\n",
       "      <td>sx4</td>\n",
       "      <td>2013</td>\n",
       "      <td>4.75</td>\n",
       "      <td>9.54</td>\n",
       "      <td>43000</td>\n",
       "      <td>Diesel</td>\n",
       "      <td>Dealer</td>\n",
       "      <td>Manual</td>\n",
       "      <td>0</td>\n",
       "    </tr>\n",
       "    <tr>\n",
       "      <th>2</th>\n",
       "      <td>ciaz</td>\n",
       "      <td>2017</td>\n",
       "      <td>7.25</td>\n",
       "      <td>9.85</td>\n",
       "      <td>6900</td>\n",
       "      <td>Petrol</td>\n",
       "      <td>Dealer</td>\n",
       "      <td>Manual</td>\n",
       "      <td>0</td>\n",
       "    </tr>\n",
       "    <tr>\n",
       "      <th>3</th>\n",
       "      <td>wagon r</td>\n",
       "      <td>2011</td>\n",
       "      <td>2.85</td>\n",
       "      <td>4.15</td>\n",
       "      <td>5200</td>\n",
       "      <td>Petrol</td>\n",
       "      <td>Dealer</td>\n",
       "      <td>Manual</td>\n",
       "      <td>0</td>\n",
       "    </tr>\n",
       "    <tr>\n",
       "      <th>4</th>\n",
       "      <td>swift</td>\n",
       "      <td>2014</td>\n",
       "      <td>4.60</td>\n",
       "      <td>6.87</td>\n",
       "      <td>42450</td>\n",
       "      <td>Diesel</td>\n",
       "      <td>Dealer</td>\n",
       "      <td>Manual</td>\n",
       "      <td>0</td>\n",
       "    </tr>\n",
       "  </tbody>\n",
       "</table>\n",
       "</div>"
      ],
      "text/plain": [
       "  Car_Name  Year  Selling_Price  Present_Price  Kms_Driven Fuel_Type  \\\n",
       "0     ritz  2014           3.35           5.59       27000    Petrol   \n",
       "1      sx4  2013           4.75           9.54       43000    Diesel   \n",
       "2     ciaz  2017           7.25           9.85        6900    Petrol   \n",
       "3  wagon r  2011           2.85           4.15        5200    Petrol   \n",
       "4    swift  2014           4.60           6.87       42450    Diesel   \n",
       "\n",
       "  Seller_Type Transmission  Owner  \n",
       "0      Dealer       Manual      0  \n",
       "1      Dealer       Manual      0  \n",
       "2      Dealer       Manual      0  \n",
       "3      Dealer       Manual      0  \n",
       "4      Dealer       Manual      0  "
      ]
     },
     "execution_count": 45,
     "metadata": {},
     "output_type": "execute_result"
    }
   ],
   "source": [
    "# reading the data and adding it in the dataframe\n",
    "data_df = pd.read_csv(\"/Users/mohitmehta/Desktop/BUSI_650_FinalAssignments/Datasets/CarDekhoData.csv\")\n",
    "data_df.head()"
   ]
  },
  {
   "cell_type": "code",
   "execution_count": 46,
   "id": "ceb1ef87",
   "metadata": {},
   "outputs": [
    {
     "data": {
      "text/plain": [
       "Car_Name          object\n",
       "Year               int64\n",
       "Selling_Price    float64\n",
       "Present_Price    float64\n",
       "Kms_Driven         int64\n",
       "Fuel_Type         object\n",
       "Seller_Type       object\n",
       "Transmission      object\n",
       "Owner              int64\n",
       "dtype: object"
      ]
     },
     "execution_count": 46,
     "metadata": {},
     "output_type": "execute_result"
    }
   ],
   "source": [
    "# describing the datatypes of dataframe\n",
    "data_df.dtypes"
   ]
  },
  {
   "cell_type": "code",
   "execution_count": 47,
   "id": "a4334b16",
   "metadata": {},
   "outputs": [],
   "source": [
    "# Car_Name variable is not required for the prediction so dropping this variable\n",
    "data_df = data_df.drop(columns=['Car_Name'])"
   ]
  },
  {
   "cell_type": "code",
   "execution_count": 48,
   "id": "2236c73c",
   "metadata": {},
   "outputs": [
    {
     "data": {
      "text/html": [
       "<div>\n",
       "<style scoped>\n",
       "    .dataframe tbody tr th:only-of-type {\n",
       "        vertical-align: middle;\n",
       "    }\n",
       "\n",
       "    .dataframe tbody tr th {\n",
       "        vertical-align: top;\n",
       "    }\n",
       "\n",
       "    .dataframe thead th {\n",
       "        text-align: right;\n",
       "    }\n",
       "</style>\n",
       "<table border=\"1\" class=\"dataframe\">\n",
       "  <thead>\n",
       "    <tr style=\"text-align: right;\">\n",
       "      <th>Seller_Type</th>\n",
       "      <th>Dealer</th>\n",
       "      <th>Individual</th>\n",
       "    </tr>\n",
       "    <tr>\n",
       "      <th>Fuel_Type</th>\n",
       "      <th></th>\n",
       "      <th></th>\n",
       "    </tr>\n",
       "  </thead>\n",
       "  <tbody>\n",
       "    <tr>\n",
       "      <th>CNG</th>\n",
       "      <td>2</td>\n",
       "      <td>0</td>\n",
       "    </tr>\n",
       "    <tr>\n",
       "      <th>Diesel</th>\n",
       "      <td>59</td>\n",
       "      <td>1</td>\n",
       "    </tr>\n",
       "    <tr>\n",
       "      <th>Petrol</th>\n",
       "      <td>134</td>\n",
       "      <td>105</td>\n",
       "    </tr>\n",
       "  </tbody>\n",
       "</table>\n",
       "</div>"
      ],
      "text/plain": [
       "Seller_Type  Dealer  Individual\n",
       "Fuel_Type                      \n",
       "CNG               2           0\n",
       "Diesel           59           1\n",
       "Petrol          134         105"
      ]
     },
     "execution_count": 48,
     "metadata": {},
     "output_type": "execute_result"
    }
   ],
   "source": [
    "# crosstab command b/w Fuel_Type and Seller_Type\n",
    "pd.crosstab(data_df.Fuel_Type,data_df.Seller_Type)"
   ]
  },
  {
   "cell_type": "markdown",
   "id": "6c9962cc",
   "metadata": {},
   "source": [
    "Here, we can see except the petrol car, all other types(CNG and Diesel) are being sold by dealer, this means Petrol cars are easier to sell individually."
   ]
  },
  {
   "cell_type": "code",
   "execution_count": 49,
   "id": "1f2273ef",
   "metadata": {},
   "outputs": [
    {
     "data": {
      "text/html": [
       "<div>\n",
       "<style scoped>\n",
       "    .dataframe tbody tr th:only-of-type {\n",
       "        vertical-align: middle;\n",
       "    }\n",
       "\n",
       "    .dataframe tbody tr th {\n",
       "        vertical-align: top;\n",
       "    }\n",
       "\n",
       "    .dataframe thead th {\n",
       "        text-align: right;\n",
       "    }\n",
       "</style>\n",
       "<table border=\"1\" class=\"dataframe\">\n",
       "  <thead>\n",
       "    <tr style=\"text-align: right;\">\n",
       "      <th>Transmission</th>\n",
       "      <th>Automatic</th>\n",
       "      <th>Manual</th>\n",
       "    </tr>\n",
       "    <tr>\n",
       "      <th>Fuel_Type</th>\n",
       "      <th></th>\n",
       "      <th></th>\n",
       "    </tr>\n",
       "  </thead>\n",
       "  <tbody>\n",
       "    <tr>\n",
       "      <th>CNG</th>\n",
       "      <td>0</td>\n",
       "      <td>2</td>\n",
       "    </tr>\n",
       "    <tr>\n",
       "      <th>Diesel</th>\n",
       "      <td>12</td>\n",
       "      <td>48</td>\n",
       "    </tr>\n",
       "    <tr>\n",
       "      <th>Petrol</th>\n",
       "      <td>28</td>\n",
       "      <td>211</td>\n",
       "    </tr>\n",
       "  </tbody>\n",
       "</table>\n",
       "</div>"
      ],
      "text/plain": [
       "Transmission  Automatic  Manual\n",
       "Fuel_Type                      \n",
       "CNG                   0       2\n",
       "Diesel               12      48\n",
       "Petrol               28     211"
      ]
     },
     "execution_count": 49,
     "metadata": {},
     "output_type": "execute_result"
    }
   ],
   "source": [
    "# crosstab\n",
    "pd.crosstab(data_df.Fuel_Type,data_df.Transmission)"
   ]
  },
  {
   "cell_type": "markdown",
   "id": "e9690ebe",
   "metadata": {},
   "source": [
    "Here, we can see two things:\n",
    "1. Only Manual Cars which are in CNG is sold.\n",
    "2. Manual Cars which is petrol are being sold more in the market"
   ]
  },
  {
   "cell_type": "code",
   "execution_count": 50,
   "id": "1e57eff0",
   "metadata": {},
   "outputs": [
    {
     "data": {
      "text/html": [
       "<div>\n",
       "<style scoped>\n",
       "    .dataframe tbody tr th:only-of-type {\n",
       "        vertical-align: middle;\n",
       "    }\n",
       "\n",
       "    .dataframe tbody tr th {\n",
       "        vertical-align: top;\n",
       "    }\n",
       "\n",
       "    .dataframe thead th {\n",
       "        text-align: right;\n",
       "    }\n",
       "</style>\n",
       "<table border=\"1\" class=\"dataframe\">\n",
       "  <thead>\n",
       "    <tr style=\"text-align: right;\">\n",
       "      <th>Seller_Type</th>\n",
       "      <th>Dealer</th>\n",
       "      <th>Individual</th>\n",
       "    </tr>\n",
       "    <tr>\n",
       "      <th>Transmission</th>\n",
       "      <th></th>\n",
       "      <th></th>\n",
       "    </tr>\n",
       "  </thead>\n",
       "  <tbody>\n",
       "    <tr>\n",
       "      <th>Automatic</th>\n",
       "      <td>29</td>\n",
       "      <td>11</td>\n",
       "    </tr>\n",
       "    <tr>\n",
       "      <th>Manual</th>\n",
       "      <td>166</td>\n",
       "      <td>95</td>\n",
       "    </tr>\n",
       "  </tbody>\n",
       "</table>\n",
       "</div>"
      ],
      "text/plain": [
       "Seller_Type   Dealer  Individual\n",
       "Transmission                    \n",
       "Automatic         29          11\n",
       "Manual           166          95"
      ]
     },
     "execution_count": 50,
     "metadata": {},
     "output_type": "execute_result"
    }
   ],
   "source": [
    "# crosstab command b/w Transmission and Seller_Type\n",
    "pd.crosstab(data_df.Transmission,data_df.Seller_Type)"
   ]
  },
  {
   "cell_type": "markdown",
   "id": "2bd4550f",
   "metadata": {},
   "source": [
    "Here, we can see more number of manual cars are being sold in the market either individually or through seller."
   ]
  },
  {
   "cell_type": "code",
   "execution_count": 51,
   "id": "c716d7f7",
   "metadata": {},
   "outputs": [
    {
     "data": {
      "text/plain": [
       "Fuel_Type  Transmission\n",
       "CNG        Manual            2\n",
       "Diesel     Manual           48\n",
       "           Automatic        12\n",
       "Petrol     Manual          211\n",
       "           Automatic        28\n",
       "Name: Transmission, dtype: int64"
      ]
     },
     "execution_count": 51,
     "metadata": {},
     "output_type": "execute_result"
    }
   ],
   "source": [
    "# group by command for counting the number by grouping them\n",
    "data_df.groupby('Fuel_Type')['Transmission'].value_counts()"
   ]
  },
  {
   "cell_type": "markdown",
   "id": "5967aa01",
   "metadata": {},
   "source": [
    "Here, we can see except the petrol car, all other types(CNG and Diesel) are being sold by dealer, this means Petrol cars are easier to sell individually."
   ]
  },
  {
   "cell_type": "code",
   "execution_count": 52,
   "id": "65609db2",
   "metadata": {},
   "outputs": [
    {
     "data": {
      "text/plain": [
       "<AxesSubplot:xlabel='Present_Price'>"
      ]
     },
     "execution_count": 52,
     "metadata": {},
     "output_type": "execute_result"
    },
    {
     "data": {
      "image/png": "[encoded data removed]",
      "text/plain": [
       "<Figure size 432x288 with 1 Axes>"
      ]
     },
     "metadata": {
      "needs_background": "light"
     },
     "output_type": "display_data"
    }
   ],
   "source": [
    "sns.violinplot(x=data_df[\"Present_Price\"],inner=\"box\")"
   ]
  },
  {
   "cell_type": "markdown",
   "id": "b9d2af41",
   "metadata": {},
   "source": [
    "Most of the cars have present prices between 5 lacs and 16 lacs."
   ]
  },
  {
   "cell_type": "code",
   "execution_count": 53,
   "id": "1982e00f",
   "metadata": {},
   "outputs": [
    {
     "data": {
      "text/plain": [
       "<AxesSubplot:xlabel='Selling_Price'>"
      ]
     },
     "execution_count": 53,
     "metadata": {},
     "output_type": "execute_result"
    },
    {
     "data": {
      "image/png": "[encoded data removed]",
      "text/plain": [
       "<Figure size 432x288 with 1 Axes>"
      ]
     },
     "metadata": {
      "needs_background": "light"
     },
     "output_type": "display_data"
    }
   ],
   "source": [
    "sns.violinplot(x=data_df[\"Selling_Price\"],inner=\"box\")"
   ]
  },
  {
   "cell_type": "markdown",
   "id": "7e470864",
   "metadata": {},
   "source": [
    "Most of the cars have selling prices between 3 lacs and 7 lacs."
   ]
  },
  {
   "cell_type": "code",
   "execution_count": 54,
   "id": "657bd059",
   "metadata": {},
   "outputs": [
    {
     "data": {
      "text/plain": [
       "<AxesSubplot:xlabel='Fuel_Type', ylabel='Present_Price'>"
      ]
     },
     "execution_count": 54,
     "metadata": {},
     "output_type": "execute_result"
    },
    {
     "data": {
      "image/png": "[encoded data removed]",
      "text/plain": [
       "<Figure size 432x288 with 1 Axes>"
      ]
     },
     "metadata": {
      "needs_background": "light"
     },
     "output_type": "display_data"
    }
   ],
   "source": [
    "sns.violinplot(y='Present_Price',x='Fuel_Type',data=data_df,scale='area')"
   ]
  },
  {
   "cell_type": "markdown",
   "id": "ef116b29",
   "metadata": {},
   "source": [
    "With this violinplot, it can be understood that diesel cars have more price whereas no of CNG cars are more in the database."
   ]
  },
  {
   "cell_type": "code",
   "execution_count": 55,
   "id": "5e183baa",
   "metadata": {},
   "outputs": [
    {
     "data": {
      "text/plain": [
       "<AxesSubplot:xlabel='Fuel_Type', ylabel='Selling_Price'>"
      ]
     },
     "execution_count": 55,
     "metadata": {},
     "output_type": "execute_result"
    },
    {
     "data": {
      "image/png": "[encoded data removed]",
      "text/plain": [
       "<Figure size 432x288 with 1 Axes>"
      ]
     },
     "metadata": {
      "needs_background": "light"
     },
     "output_type": "display_data"
    }
   ],
   "source": [
    "sns.violinplot(y='Selling_Price',x='Fuel_Type',data=data_df,scale='area')"
   ]
  },
  {
   "cell_type": "markdown",
   "id": "009cf65e",
   "metadata": {},
   "source": [
    "With this violinplot, it can be understood that diesel cars have more selling price whereas no of CNG cars are more in the database."
   ]
  },
  {
   "cell_type": "code",
   "execution_count": 56,
   "id": "e15d2d46",
   "metadata": {},
   "outputs": [
    {
     "data": {
      "text/plain": [
       "<AxesSubplot:xlabel='Transmission', ylabel='Present_Price'>"
      ]
     },
     "execution_count": 56,
     "metadata": {},
     "output_type": "execute_result"
    },
    {
     "data": {
      "image/png": "[encoded data removed]",
      "text/plain": [
       "<Figure size 432x288 with 1 Axes>"
      ]
     },
     "metadata": {
      "needs_background": "light"
     },
     "output_type": "display_data"
    }
   ],
   "source": [
    "sns.violinplot(y='Present_Price',x='Transmission',data=data_df,scale='area')"
   ]
  },
  {
   "cell_type": "markdown",
   "id": "32004afa",
   "metadata": {},
   "source": [
    "From the above plot, it can be understood that present price of automatic cars lie between 10 and 30 lacs."
   ]
  },
  {
   "cell_type": "code",
   "execution_count": 57,
   "id": "16bd7bf9",
   "metadata": {},
   "outputs": [
    {
     "data": {
      "text/plain": [
       "<AxesSubplot:xlabel='Transmission', ylabel='Selling_Price'>"
      ]
     },
     "execution_count": 57,
     "metadata": {},
     "output_type": "execute_result"
    },
    {
     "data": {
      "image/png": "[encoded data removed]",
      "text/plain": [
       "<Figure size 432x288 with 1 Axes>"
      ]
     },
     "metadata": {
      "needs_background": "light"
     },
     "output_type": "display_data"
    }
   ],
   "source": [
    "sns.boxplot(y='Selling_Price',x='Transmission',data=data_df)"
   ]
  },
  {
   "cell_type": "code",
   "execution_count": 58,
   "id": "eb0bc357",
   "metadata": {},
   "outputs": [
    {
     "data": {
      "text/plain": [
       "Index(['Year', 'Selling_Price', 'Present_Price', 'Kms_Driven', 'Owner',\n",
       "       'Fuel_Type_Diesel', 'Fuel_Type_Petrol', 'Seller_Type_Individual',\n",
       "       'Transmission_Manual'],\n",
       "      dtype='object')"
      ]
     },
     "execution_count": 58,
     "metadata": {},
     "output_type": "execute_result"
    }
   ],
   "source": [
    "# converting the categorical variables in the dataframe into binary or dummy variables\n",
    "# use drop_first=True to drop the first dummy variable\n",
    "data_df = pd.get_dummies(data_df, prefix_sep='_', drop_first=True)\n",
    "data_df.columns"
   ]
  },
  {
   "cell_type": "code",
   "execution_count": 59,
   "id": "47e8d354",
   "metadata": {},
   "outputs": [
    {
     "data": {
      "text/html": [
       "<div>\n",
       "<style scoped>\n",
       "    .dataframe tbody tr th:only-of-type {\n",
       "        vertical-align: middle;\n",
       "    }\n",
       "\n",
       "    .dataframe tbody tr th {\n",
       "        vertical-align: top;\n",
       "    }\n",
       "\n",
       "    .dataframe thead th {\n",
       "        text-align: right;\n",
       "    }\n",
       "</style>\n",
       "<table border=\"1\" class=\"dataframe\">\n",
       "  <thead>\n",
       "    <tr style=\"text-align: right;\">\n",
       "      <th></th>\n",
       "      <th>Year</th>\n",
       "      <th>Selling_Price</th>\n",
       "      <th>Present_Price</th>\n",
       "      <th>Kms_Driven</th>\n",
       "      <th>Owner</th>\n",
       "      <th>Fuel_Type_Diesel</th>\n",
       "      <th>Fuel_Type_Petrol</th>\n",
       "      <th>Seller_Type_Individual</th>\n",
       "      <th>Transmission_Manual</th>\n",
       "    </tr>\n",
       "  </thead>\n",
       "  <tbody>\n",
       "    <tr>\n",
       "      <th>0</th>\n",
       "      <td>2014</td>\n",
       "      <td>3.35</td>\n",
       "      <td>5.59</td>\n",
       "      <td>27000</td>\n",
       "      <td>0</td>\n",
       "      <td>0</td>\n",
       "      <td>1</td>\n",
       "      <td>0</td>\n",
       "      <td>1</td>\n",
       "    </tr>\n",
       "    <tr>\n",
       "      <th>1</th>\n",
       "      <td>2013</td>\n",
       "      <td>4.75</td>\n",
       "      <td>9.54</td>\n",
       "      <td>43000</td>\n",
       "      <td>0</td>\n",
       "      <td>1</td>\n",
       "      <td>0</td>\n",
       "      <td>0</td>\n",
       "      <td>1</td>\n",
       "    </tr>\n",
       "    <tr>\n",
       "      <th>2</th>\n",
       "      <td>2017</td>\n",
       "      <td>7.25</td>\n",
       "      <td>9.85</td>\n",
       "      <td>6900</td>\n",
       "      <td>0</td>\n",
       "      <td>0</td>\n",
       "      <td>1</td>\n",
       "      <td>0</td>\n",
       "      <td>1</td>\n",
       "    </tr>\n",
       "    <tr>\n",
       "      <th>3</th>\n",
       "      <td>2011</td>\n",
       "      <td>2.85</td>\n",
       "      <td>4.15</td>\n",
       "      <td>5200</td>\n",
       "      <td>0</td>\n",
       "      <td>0</td>\n",
       "      <td>1</td>\n",
       "      <td>0</td>\n",
       "      <td>1</td>\n",
       "    </tr>\n",
       "    <tr>\n",
       "      <th>4</th>\n",
       "      <td>2014</td>\n",
       "      <td>4.60</td>\n",
       "      <td>6.87</td>\n",
       "      <td>42450</td>\n",
       "      <td>0</td>\n",
       "      <td>1</td>\n",
       "      <td>0</td>\n",
       "      <td>0</td>\n",
       "      <td>1</td>\n",
       "    </tr>\n",
       "  </tbody>\n",
       "</table>\n",
       "</div>"
      ],
      "text/plain": [
       "   Year  Selling_Price  Present_Price  Kms_Driven  Owner  Fuel_Type_Diesel  \\\n",
       "0  2014           3.35           5.59       27000      0                 0   \n",
       "1  2013           4.75           9.54       43000      0                 1   \n",
       "2  2017           7.25           9.85        6900      0                 0   \n",
       "3  2011           2.85           4.15        5200      0                 0   \n",
       "4  2014           4.60           6.87       42450      0                 1   \n",
       "\n",
       "   Fuel_Type_Petrol  Seller_Type_Individual  Transmission_Manual  \n",
       "0                 1                       0                    1  \n",
       "1                 0                       0                    1  \n",
       "2                 1                       0                    1  \n",
       "3                 1                       0                    1  \n",
       "4                 0                       0                    1  "
      ]
     },
     "execution_count": 59,
     "metadata": {},
     "output_type": "execute_result"
    }
   ],
   "source": [
    "data_df.head()"
   ]
  },
  {
   "cell_type": "code",
   "execution_count": 60,
   "id": "a1aa23d4",
   "metadata": {},
   "outputs": [
    {
     "data": {
      "text/plain": [
       "<AxesSubplot:>"
      ]
     },
     "execution_count": 60,
     "metadata": {},
     "output_type": "execute_result"
    },
    {
     "data": {
      "image/png": "[encoded data removed]",
      "text/plain": [
       "<Figure size 432x288 with 2 Axes>"
      ]
     },
     "metadata": {
      "needs_background": "light"
     },
     "output_type": "display_data"
    },
    {
     "data": {
      "image/png": "[encoded data removed]",
      "text/plain": [
       "<Figure size 1440x504 with 2 Axes>"
      ]
     },
     "metadata": {
      "needs_background": "light"
     },
     "output_type": "display_data"
    }
   ],
   "source": [
    "# drawing the correlation matrix to understand the correlation between the variables\n",
    "corr = data_df.corr()\n",
    "# Change the colormap to a divergent scale and fix the range of the colormap\n",
    "sns.heatmap(corr, xticklabels=corr.columns, yticklabels=corr.columns, vmin=-1, vmax=1, cmap=\"RdBu\")\n",
    "\n",
    "# Include information about values (example demonstrate how to control the size of\n",
    "# the plot\n",
    "fig, ax = plt.subplots()\n",
    "fig.set_size_inches(20, 7)\n",
    "sns.heatmap(corr, annot=True, fmt=\".1f\", cmap=\"RdBu\", center=0, ax=ax)"
   ]
  },
  {
   "cell_type": "markdown",
   "id": "3cb07f1b",
   "metadata": {},
   "source": [
    "In the above correlation matrix, we can see Selling_Price and Present_Price are highly correlated and we are predicting the Price so dropping Selling_Price."
   ]
  },
  {
   "cell_type": "code",
   "execution_count": 61,
   "id": "878ee73d",
   "metadata": {},
   "outputs": [
    {
     "data": {
      "text/html": [
       "<div>\n",
       "<style scoped>\n",
       "    .dataframe tbody tr th:only-of-type {\n",
       "        vertical-align: middle;\n",
       "    }\n",
       "\n",
       "    .dataframe tbody tr th {\n",
       "        vertical-align: top;\n",
       "    }\n",
       "\n",
       "    .dataframe thead th {\n",
       "        text-align: right;\n",
       "    }\n",
       "</style>\n",
       "<table border=\"1\" class=\"dataframe\">\n",
       "  <thead>\n",
       "    <tr style=\"text-align: right;\">\n",
       "      <th></th>\n",
       "      <th>Year</th>\n",
       "      <th>Selling_Price</th>\n",
       "      <th>Present_Price</th>\n",
       "      <th>Kms_Driven</th>\n",
       "      <th>Owner</th>\n",
       "      <th>Fuel_Type_Diesel</th>\n",
       "      <th>Fuel_Type_Petrol</th>\n",
       "      <th>Seller_Type_Individual</th>\n",
       "      <th>Transmission_Manual</th>\n",
       "    </tr>\n",
       "  </thead>\n",
       "  <tbody>\n",
       "    <tr>\n",
       "      <th>0</th>\n",
       "      <td>2014</td>\n",
       "      <td>3.35</td>\n",
       "      <td>5.59</td>\n",
       "      <td>27000</td>\n",
       "      <td>0</td>\n",
       "      <td>0</td>\n",
       "      <td>1</td>\n",
       "      <td>0</td>\n",
       "      <td>1</td>\n",
       "    </tr>\n",
       "    <tr>\n",
       "      <th>1</th>\n",
       "      <td>2013</td>\n",
       "      <td>4.75</td>\n",
       "      <td>9.54</td>\n",
       "      <td>43000</td>\n",
       "      <td>0</td>\n",
       "      <td>1</td>\n",
       "      <td>0</td>\n",
       "      <td>0</td>\n",
       "      <td>1</td>\n",
       "    </tr>\n",
       "    <tr>\n",
       "      <th>2</th>\n",
       "      <td>2017</td>\n",
       "      <td>7.25</td>\n",
       "      <td>9.85</td>\n",
       "      <td>6900</td>\n",
       "      <td>0</td>\n",
       "      <td>0</td>\n",
       "      <td>1</td>\n",
       "      <td>0</td>\n",
       "      <td>1</td>\n",
       "    </tr>\n",
       "    <tr>\n",
       "      <th>3</th>\n",
       "      <td>2011</td>\n",
       "      <td>2.85</td>\n",
       "      <td>4.15</td>\n",
       "      <td>5200</td>\n",
       "      <td>0</td>\n",
       "      <td>0</td>\n",
       "      <td>1</td>\n",
       "      <td>0</td>\n",
       "      <td>1</td>\n",
       "    </tr>\n",
       "    <tr>\n",
       "      <th>4</th>\n",
       "      <td>2014</td>\n",
       "      <td>4.60</td>\n",
       "      <td>6.87</td>\n",
       "      <td>42450</td>\n",
       "      <td>0</td>\n",
       "      <td>1</td>\n",
       "      <td>0</td>\n",
       "      <td>0</td>\n",
       "      <td>1</td>\n",
       "    </tr>\n",
       "  </tbody>\n",
       "</table>\n",
       "</div>"
      ],
      "text/plain": [
       "   Year  Selling_Price  Present_Price  Kms_Driven  Owner  Fuel_Type_Diesel  \\\n",
       "0  2014           3.35           5.59       27000      0                 0   \n",
       "1  2013           4.75           9.54       43000      0                 1   \n",
       "2  2017           7.25           9.85        6900      0                 0   \n",
       "3  2011           2.85           4.15        5200      0                 0   \n",
       "4  2014           4.60           6.87       42450      0                 1   \n",
       "\n",
       "   Fuel_Type_Petrol  Seller_Type_Individual  Transmission_Manual  \n",
       "0                 1                       0                    1  \n",
       "1                 0                       0                    1  \n",
       "2                 1                       0                    1  \n",
       "3                 1                       0                    1  \n",
       "4                 0                       0                    1  "
      ]
     },
     "execution_count": 61,
     "metadata": {},
     "output_type": "execute_result"
    }
   ],
   "source": [
    "data_df.head()"
   ]
  },
  {
   "cell_type": "code",
   "execution_count": 69,
   "id": "3b014b67",
   "metadata": {},
   "outputs": [],
   "source": [
    "#code for fitting a linear regression model to training data (West Roxbury)\n",
    "from sklearn.linear_model import LinearRegression"
   ]
  },
  {
   "cell_type": "code",
   "execution_count": 81,
   "id": "f647e65d",
   "metadata": {},
   "outputs": [],
   "source": [
    "# create list of predictors and outcome\n",
    "excludeColumns = ('Selling_Price')\n",
    "predictors = [s for s in data_df.columns if s not in excludeColumns]\n",
    "outcome = 'Selling_Price'\n",
    "   \n",
    "# partition data\n",
    "X = data_df[predictors]\n",
    "y = data_df[outcome]\n",
    "train_X, valid_X, train_y, valid_y = train_test_split(X, y, test_size=0.4, random_state=1)"
   ]
  },
  {
   "cell_type": "markdown",
   "id": "caa031fe",
   "metadata": {},
   "source": [
    "Here, the predictors and outcome are set in the X variable is set and data is divided into training and validation 60% and 40%. "
   ]
  },
  {
   "cell_type": "code",
   "execution_count": 82,
   "id": "c5bdf8c2",
   "metadata": {},
   "outputs": [
    {
     "data": {
      "text/html": [
       "<div>\n",
       "<style scoped>\n",
       "    .dataframe tbody tr th:only-of-type {\n",
       "        vertical-align: middle;\n",
       "    }\n",
       "\n",
       "    .dataframe tbody tr th {\n",
       "        vertical-align: top;\n",
       "    }\n",
       "\n",
       "    .dataframe thead th {\n",
       "        text-align: right;\n",
       "    }\n",
       "</style>\n",
       "<table border=\"1\" class=\"dataframe\">\n",
       "  <thead>\n",
       "    <tr style=\"text-align: right;\">\n",
       "      <th></th>\n",
       "      <th>Selling_Price</th>\n",
       "      <th>predicted</th>\n",
       "      <th>residual</th>\n",
       "    </tr>\n",
       "  </thead>\n",
       "  <tbody>\n",
       "    <tr>\n",
       "      <th>48</th>\n",
       "      <td>5.80</td>\n",
       "      <td>5.126626</td>\n",
       "      <td>0.673374</td>\n",
       "    </tr>\n",
       "    <tr>\n",
       "      <th>243</th>\n",
       "      <td>6.25</td>\n",
       "      <td>5.574133</td>\n",
       "      <td>0.675867</td>\n",
       "    </tr>\n",
       "    <tr>\n",
       "      <th>161</th>\n",
       "      <td>0.45</td>\n",
       "      <td>0.595685</td>\n",
       "      <td>-0.145685</td>\n",
       "    </tr>\n",
       "    <tr>\n",
       "      <th>214</th>\n",
       "      <td>5.25</td>\n",
       "      <td>5.083039</td>\n",
       "      <td>0.166961</td>\n",
       "    </tr>\n",
       "    <tr>\n",
       "      <th>33</th>\n",
       "      <td>6.00</td>\n",
       "      <td>7.324207</td>\n",
       "      <td>-1.324207</td>\n",
       "    </tr>\n",
       "  </tbody>\n",
       "</table>\n",
       "</div>"
      ],
      "text/plain": [
       "     Selling_Price  predicted  residual\n",
       "48            5.80   5.126626  0.673374\n",
       "243           6.25   5.574133  0.675867\n",
       "161           0.45   0.595685 -0.145685\n",
       "214           5.25   5.083039  0.166961\n",
       "33            6.00   7.324207 -1.324207"
      ]
     },
     "execution_count": 82,
     "metadata": {},
     "output_type": "execute_result"
    }
   ],
   "source": [
    "model = LinearRegression()\n",
    "model.fit(train_X, train_y)\n",
    "\n",
    "train_pred = model.predict(train_X)\n",
    "train_results = pd.DataFrame({\n",
    "'Selling_Price': train_y,\n",
    "'predicted': train_pred,\n",
    "'residual': train_y - train_pred\n",
    "})\n",
    "train_results.head()"
   ]
  },
  {
   "cell_type": "markdown",
   "id": "c2663103",
   "metadata": {},
   "source": [
    "After model is trained, these are the results of actual Selling_price and predicted Selling_Price for the training data by the model and the difference between them."
   ]
  },
  {
   "cell_type": "code",
   "execution_count": 83,
   "id": "833822a1",
   "metadata": {},
   "outputs": [
    {
     "data": {
      "text/html": [
       "<div>\n",
       "<style scoped>\n",
       "    .dataframe tbody tr th:only-of-type {\n",
       "        vertical-align: middle;\n",
       "    }\n",
       "\n",
       "    .dataframe tbody tr th {\n",
       "        vertical-align: top;\n",
       "    }\n",
       "\n",
       "    .dataframe thead th {\n",
       "        text-align: right;\n",
       "    }\n",
       "</style>\n",
       "<table border=\"1\" class=\"dataframe\">\n",
       "  <thead>\n",
       "    <tr style=\"text-align: right;\">\n",
       "      <th></th>\n",
       "      <th>Selling_Price</th>\n",
       "      <th>predicted</th>\n",
       "      <th>residual</th>\n",
       "    </tr>\n",
       "  </thead>\n",
       "  <tbody>\n",
       "    <tr>\n",
       "      <th>285</th>\n",
       "      <td>7.40</td>\n",
       "      <td>8.147408</td>\n",
       "      <td>-0.747408</td>\n",
       "    </tr>\n",
       "    <tr>\n",
       "      <th>248</th>\n",
       "      <td>4.00</td>\n",
       "      <td>2.921712</td>\n",
       "      <td>1.078288</td>\n",
       "    </tr>\n",
       "    <tr>\n",
       "      <th>150</th>\n",
       "      <td>0.50</td>\n",
       "      <td>-0.547396</td>\n",
       "      <td>1.047396</td>\n",
       "    </tr>\n",
       "    <tr>\n",
       "      <th>217</th>\n",
       "      <td>3.15</td>\n",
       "      <td>4.139800</td>\n",
       "      <td>-0.989800</td>\n",
       "    </tr>\n",
       "    <tr>\n",
       "      <th>107</th>\n",
       "      <td>1.25</td>\n",
       "      <td>0.522586</td>\n",
       "      <td>0.727414</td>\n",
       "    </tr>\n",
       "  </tbody>\n",
       "</table>\n",
       "</div>"
      ],
      "text/plain": [
       "     Selling_Price  predicted  residual\n",
       "285           7.40   8.147408 -0.747408\n",
       "248           4.00   2.921712  1.078288\n",
       "150           0.50  -0.547396  1.047396\n",
       "217           3.15   4.139800 -0.989800\n",
       "107           1.25   0.522586  0.727414"
      ]
     },
     "execution_count": 83,
     "metadata": {},
     "output_type": "execute_result"
    }
   ],
   "source": [
    "valid_pred = model.predict(valid_X)\n",
    "valid_results = pd.DataFrame({\n",
    "    'Selling_Price': valid_y,\n",
    "    'predicted': valid_pred,\n",
    "    'residual': valid_y - valid_pred\n",
    "})\n",
    "valid_results.head()"
   ]
  },
  {
   "cell_type": "markdown",
   "id": "a1c96b2c",
   "metadata": {},
   "source": [
    "After model is trained, these are the results of actual Selling_price and predicted Selling_Price for the validation data by the model and the difference between them."
   ]
  },
  {
   "cell_type": "code",
   "execution_count": 84,
   "id": "8061c5f5",
   "metadata": {},
   "outputs": [
    {
     "name": "stdout",
     "output_type": "stream",
     "text": [
      "\n",
      "Regression statistics\n",
      "\n",
      "                      Mean Error (ME) : 0.0000\n",
      "       Root Mean Squared Error (RMSE) : 1.8864\n",
      "            Mean Absolute Error (MAE) : 1.2895\n",
      "          Mean Percentage Error (MPE) : 34.9831\n",
      "Mean Absolute Percentage Error (MAPE) : 124.6329\n",
      "\n",
      "Regression statistics\n",
      "\n",
      "                      Mean Error (ME) : -0.1630\n",
      "       Root Mean Squared Error (RMSE) : 1.5990\n",
      "            Mean Absolute Error (MAE) : 1.0593\n",
      "          Mean Percentage Error (MPE) : 15.2867\n",
      "Mean Absolute Percentage Error (MAPE) : 100.4086\n"
     ]
    }
   ],
   "source": [
    "#code for computing model evaluation metrics\n",
    "\n",
    "# import the utility function regressionSummary\n",
    "from dmba import regressionSummary\n",
    "\n",
    "# training set\n",
    "regressionSummary(train_results.Selling_Price, train_results.predicted)\n",
    "\n",
    "# validation set\n",
    "regressionSummary(valid_results.Selling_Price, valid_results.predicted)"
   ]
  },
  {
   "cell_type": "code",
   "execution_count": 85,
   "id": "fe222913",
   "metadata": {},
   "outputs": [
    {
     "name": "stdout",
     "output_type": "stream",
     "text": [
      "                Predictor  coefficient\n",
      "0                    Year     0.407575\n",
      "1           Present_Price     0.440648\n",
      "2              Kms_Driven    -0.000005\n",
      "3                   Owner     0.094489\n",
      "4        Fuel_Type_Diesel     2.154235\n",
      "5        Fuel_Type_Petrol     0.446509\n",
      "6  Seller_Type_Individual    -1.103391\n",
      "7     Transmission_Manual    -2.214447\n"
     ]
    }
   ],
   "source": [
    "print(pd.DataFrame({'Predictor': X.columns, 'coefficient': \n",
    "  model.coef_}))"
   ]
  },
  {
   "cell_type": "code",
   "execution_count": 88,
   "id": "7019c2fc",
   "metadata": {},
   "outputs": [
    {
     "name": "stdout",
     "output_type": "stream",
     "text": [
      "   Year  Present_Price  Kms_Driven  Owner  Fuel_Type_Diesel  Fuel_Type_Petrol  \\\n",
      "0  2014           5.59       27000      0                 0                 1   \n",
      "1  2012           4.20        5200      0                 1                 0   \n",
      "2  2017           7.25        6900      0                 0                 1   \n",
      "\n",
      "   Seller_Type_Individual  Transmission_Manual  \n",
      "0                       0                    1  \n",
      "1                       0                    1  \n",
      "2                       0                    1  \n",
      "Predictions:  [3.77958324 4.16178979 5.82794966]\n"
     ]
    }
   ],
   "source": [
    "new_data = pd.DataFrame({\n",
    "    'Year': [2014, 2012, 2017],\n",
    "    'Present_Price': [5.59, 4.20, 7.25],\n",
    "    'Kms_Driven': [27000, 5200, 6900],\n",
    "    'Owner': [0, 0, 0],\n",
    "    'Fuel_Type_Diesel': [0, 1, 0],\n",
    "    'Fuel_Type_Petrol': [1, 0, 1],\n",
    "    'Seller_Type_Individual': [0, 0, 0],\n",
    "    'Transmission_Manual': [1, 1, 1]\n",
    "})\n",
    "print(new_data)\n",
    "print('Predictions: ', model.predict(new_data))"
   ]
  },
  {
   "cell_type": "markdown",
   "id": "864a318e",
   "metadata": {},
   "source": [
    "Here, with the help of this model I took a random dataset and used this model to predict the Selling_Price."
   ]
  }
 ],
 "metadata": {
  "kernelspec": {
   "display_name": "Python 3 (ipykernel)",
   "language": "python",
   "name": "python3"
  },
  "language_info": {
   "codemirror_mode": {
    "name": "ipython",
    "version": 3
   },
   "file_extension": ".py",
   "mimetype": "text/x-python",
   "name": "python",
   "nbconvert_exporter": "python",
   "pygments_lexer": "ipython3",
   "version": "3.9.12"
  }
 },
 "nbformat": 4,
 "nbformat_minor": 5
}
